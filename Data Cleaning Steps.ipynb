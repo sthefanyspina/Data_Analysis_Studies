{
 "cells": [
  {
   "cell_type": "code",
   "execution_count": null,
   "id": "6afa01b9-c3b0-40db-8308-c8609ce98bc3",
   "metadata": {},
   "outputs": [],
   "source": [
    "Passo 1: Carregar o arquivo CSV\n",
    "Primeiro, importe o Pandas e carregue o arquivo CSV. Caso o arquivo tenha codificação diferente ou delimitadores específicos, ajuste os parâmetros conforme necessário."
   ]
  },
  {
   "cell_type": "code",
   "execution_count": null,
   "id": "8074e165-2f87-437a-8ad5-b613f980f981",
   "metadata": {},
   "outputs": [],
   "source": [
    "import pandas as pd\n",
    "\n",
    "# Carregar o arquivo CSV\n",
    "df = pd.read_csv('seu_arquivo.csv', encoding='utf-8', sep=',')"
   ]
  },
  {
   "cell_type": "code",
   "execution_count": null,
   "id": "93fae815-ca28-4d9b-aa17-e31c0df40aee",
   "metadata": {},
   "outputs": [],
   "source": [
    "Passo 2: Explorar os dados\n",
    "Antes de iniciar a limpeza, é importante entender a estrutura dos dados."
   ]
  },
  {
   "cell_type": "code",
   "execution_count": null,
   "id": "4cf40663-d12d-46d8-b6dd-2d73da13a6a7",
   "metadata": {},
   "outputs": [],
   "source": [
    "# Primeiras 5 linhas\n",
    "df.head()\n",
    "\n",
    "# Informações gerais sobre o DataFrame\n",
    "df.info()\n",
    "\n",
    "# Estatísticas descritivas\n",
    "df.describe()"
   ]
  },
  {
   "cell_type": "code",
   "execution_count": null,
   "id": "2a58c7f5-94e7-40cb-ae2b-42661a00f340",
   "metadata": {},
   "outputs": [],
   "source": [
    "Passo 3: Identificar e tratar valores ausentes\n",
    "Valores ausentes podem ser identificados e tratados de diferentes maneiras:"
   ]
  },
  {
   "cell_type": "code",
   "execution_count": null,
   "id": "c6095efd-d89b-446a-9dbc-9464404712c7",
   "metadata": {},
   "outputs": [],
   "source": [
    "# Identificar valores ausentes\n",
    "df.isnull().sum())\n",
    "\n",
    "# Remover linhas com valores ausentes\n",
    "df.dropna(inplace=True)\n",
    "\n",
    "# Preencher valores ausentes com a média (para colunas numéricas)\n",
    "df['coluna_numerica'].fillna(df['coluna_numerica'].mean(), inplace=True)\n",
    "\n",
    "# Preencher valores ausentes com a moda (para colunas categóricas)\n",
    "df['coluna_categorica'].fillna(df['coluna_categorica'].mode()[0], inplace=True)"
   ]
  },
  {
   "cell_type": "code",
   "execution_count": null,
   "id": "5ea669c1-ea17-4478-91cd-76ddad669651",
   "metadata": {},
   "outputs": [],
   "source": [
    "Passo 4: Remover dados duplicados\n",
    "Dados duplicados podem distorcer análises e modelos"
   ]
  },
  {
   "cell_type": "code",
   "execution_count": null,
   "id": "977e785b-2513-45b2-8420-062312e2eff6",
   "metadata": {},
   "outputs": [],
   "source": [
    "# Identificar duplicatas\n",
    "df.duplicated().sum()\n",
    "\n",
    "# Remover duplicatas\n",
    "df_cleaned = df.drop_duplicates()"
   ]
  },
  {
   "cell_type": "code",
   "execution_count": null,
   "id": "99d818fd-d83a-4176-a51f-1e82a2b871e7",
   "metadata": {},
   "outputs": [],
   "source": [
    "Passo 5: Corrigir tipos de dados\n",
    "Certifique-se de que cada coluna tenha o tipo de dado adequado."
   ]
  },
  {
   "cell_type": "code",
   "execution_count": null,
   "id": "6e0d6f01-9555-4075-b6db-8b663cbc2116",
   "metadata": {},
   "outputs": [],
   "source": [
    "#Converter para string\n",
    "df['col'] = df['col'].astype(str)\n",
    "\n",
    "# Converter para tipo numérico\n",
    "df['coluna_numerica'] = pd.to_numeric(df['coluna_numerica'], errors='coerce')\n",
    "\n",
    "# Converter para tipo de data\n",
    "df['data'] = pd.to_datetime(df['data'], format='%Y-%m-%d')"
   ]
  },
  {
   "cell_type": "code",
   "execution_count": null,
   "id": "aadbb27d-a458-4a10-997b-a70d02e54624",
   "metadata": {},
   "outputs": [],
   "source": [
    "Passo 6: Padronizar e formatar dados\n",
    "Padronizar valores e formatos é essencial para consistência."
   ]
  },
  {
   "cell_type": "code",
   "execution_count": null,
   "id": "e73a5c8e-a21e-48fd-b114-a1f19903aa1b",
   "metadata": {},
   "outputs": [],
   "source": [
    "# Converter texto para minúsculas\n",
    "df['coluna_texto'] = df['coluna_texto'].str.lower()\n",
    "\n",
    "# Remover espaços em branco\n",
    "df['coluna_texto'] = df['coluna_texto'].str.strip()\n",
    "\n",
    "# Substituir valores específicos\n",
    "df['coluna_texto'].replace({'valor_antigo': 'valor_novo'}, inplace=True)"
   ]
  },
  {
   "cell_type": "code",
   "execution_count": null,
   "id": "7b6d7934-9780-4fbd-abde-c5f80b74c1f7",
   "metadata": {},
   "outputs": [],
   "source": [
    "Passo 7: Filtrar e transformar dados\n",
    "Aplique filtros e transformações conforme necessário."
   ]
  },
  {
   "cell_type": "code",
   "execution_count": null,
   "id": "9bdb6bdd-f30b-4759-af5a-ef727493cec2",
   "metadata": {},
   "outputs": [],
   "source": [
    "# Filtrar dados com base em uma condição\n",
    "df_filtrado = df[df['coluna_numerica'] > 50]\n",
    "\n",
    "# Criar novas colunas com base em condições\n",
    "df['nova_coluna'] = df['coluna_numerica'].apply(lambda x: 'Alta' if x > 100 else 'Baixa')\n",
    "\n",
    "#Renomear colunas\n",
    "df.rename(columns={'old': 'new'}, inplace = True)\n",
    "\n",
    "#Agrupar\n",
    "df.groupby('column')\n",
    "\n",
    "#Organizar dataframe por ordem de itens em uma coluna\n",
    "df.sort_values(by='column', ascending=False)\n",
    "\n",
    "#Adicionar nova coluna\n",
    "df['new_column'] = df['col1'] + df['col2']\n",
    "\n",
    "#Retirar coluna\n",
    "df.drop('col_name', axis=1, inplace=True)\n",
    "\n",
    "#Retorna valores unicos da coluna\n",
    "df['col'].unique()\n",
    "\n",
    "#Contagem de valores unicos\n",
    "df['col'].value_counts()\n",
    "\n",
    "#Função personalizada\n",
    "df['col'] = df['col'].apply(lambda x: x * 2)\n",
    "\n",
    "#Juntar colunas por index\n",
    "pd.merge(df1, df2, on='id')\n",
    "\n",
    "#Combinar Dataframes\n",
    "pd.concat([df1, df2])\n",
    "\n",
    "#Adicionar coluna de index\n",
    "df.set_index('id', inplace=True)\n",
    "\n",
    "#Resetar index\n",
    "df.reset_index(drop=True, inplace=True)"
   ]
  },
  {
   "cell_type": "code",
   "execution_count": null,
   "id": "f000378f-a4c7-4850-bf37-35e4b4cdd954",
   "metadata": {},
   "outputs": [],
   "source": [
    "Passo 8: Salvar os dados tratados\n",
    "Após o tratamento, salve os dados em um novo arquivo CSV."
   ]
  },
  {
   "cell_type": "code",
   "execution_count": null,
   "id": "f8246b29-2aa4-4472-9121-a3fcee00825e",
   "metadata": {},
   "outputs": [],
   "source": [
    "# Salvar em um novo arquivo CSV\n",
    "df_cleaned.to_csv('dados_tratados.csv', index=False)"
   ]
  }
 ],
 "metadata": {
  "kernelspec": {
   "display_name": "Python 3 (ipykernel)",
   "language": "python",
   "name": "python3"
  },
  "language_info": {
   "codemirror_mode": {
    "name": "ipython",
    "version": 3
   },
   "file_extension": ".py",
   "mimetype": "text/x-python",
   "name": "python",
   "nbconvert_exporter": "python",
   "pygments_lexer": "ipython3",
   "version": "3.13.2"
  }
 },
 "nbformat": 4,
 "nbformat_minor": 5
}
